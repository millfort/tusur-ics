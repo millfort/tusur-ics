{
 "cells": [
  {
   "cell_type": "code",
   "execution_count": 183,
   "metadata": {},
   "outputs": [],
   "source": [
    "import numpy as np\n",
    "import matplotlib.pyplot as plt\n",
    "import skfuzzy as fuzz\n",
    "from skfuzzy import control as ctrl\n",
    "from rich import print as pprint\n",
    "from IPython.display import display, Markdown\n",
    "from tabulate import tabulate\n",
    "from sklearn.metrics import mean_squared_error, mean_absolute_error, max_error\n",
    "import random\n",
    "import pygad"
   ]
  },
  {
   "cell_type": "code",
   "execution_count": 184,
   "metadata": {},
   "outputs": [],
   "source": [
    "TERMS_N = 5\n",
    "STEPS_N = 10\n",
    "POPULATION_SIZE = 10"
   ]
  },
  {
   "cell_type": "code",
   "execution_count": 185,
   "metadata": {},
   "outputs": [],
   "source": [
    "class Bounds:\n",
    "    def __init__(self, left, right):\n",
    "        self.left = left\n",
    "        self.right = right\n",
    "\n",
    "X_BOUNDS = Bounds(-5., 5.)\n",
    "Y_BOUNDS = Bounds(-5., 5.)\n",
    "Z_BOUNDS = Bounds(-1., 1.)\n",
    "\n",
    "PI = 3.1415926535897932384626433832795\n",
    "\n",
    "def F(x, y):\n",
    "    return np.sin(2*x/PI) * np.sin(2*y/PI)"
   ]
  },
  {
   "cell_type": "code",
   "execution_count": 186,
   "metadata": {},
   "outputs": [],
   "source": [
    "#input\n",
    "def abcs_from_points(points):\n",
    "    n = len(points)\n",
    "    abcs = [points[0], points[0], points[1]]\n",
    "    for i in range(1, n-1):\n",
    "        abcs.extend([points[i-1], points[i], points[i+1]])\n",
    "    abcs.extend([points[-2], points[-1], points[-1]])\n",
    "    return abcs\n",
    "\n",
    "def uniform_distr(a, b, n):\n",
    "    points = np.linspace(a, b, n)\n",
    "    return abcs_from_points(points)\n",
    "\n",
    "def random_distr(a, b, n):\n",
    "    points = [a]\n",
    "    for _ in range(n-2):\n",
    "        points.append(random.uniform(a, b))\n",
    "    points.append(b)\n",
    "    points.sort()\n",
    "    return abcs_from_points(points)\n",
    "\n",
    "input_population = []\n",
    "uniform = []\n",
    "uniform.extend(uniform_distr(X_BOUNDS.left, X_BOUNDS.right, TERMS_N))\n",
    "uniform.extend(uniform_distr(Y_BOUNDS.left, Y_BOUNDS.right, TERMS_N))\n",
    "uniform.extend(uniform_distr(Z_BOUNDS.left, Z_BOUNDS.right, TERMS_N))\n",
    "input_population.append(np.array(uniform))\n",
    "for i in range(POPULATION_SIZE-1):\n",
    "    v = []\n",
    "    v.extend(random_distr(X_BOUNDS.left, X_BOUNDS.right, TERMS_N))\n",
    "    v.extend(random_distr(Y_BOUNDS.left, Y_BOUNDS.right, TERMS_N))\n",
    "    v.extend(random_distr(Z_BOUNDS.left, Z_BOUNDS.right, TERMS_N))\n",
    "    input_population.append(np.array(v))\n",
    "input_population = np.array(input_population)"
   ]
  },
  {
   "cell_type": "code",
   "execution_count": 187,
   "metadata": {},
   "outputs": [],
   "source": [
    "# validation\n",
    "def group_by_n(a, n):\n",
    "    b = []\n",
    "    for i in range(0, len(a), n):\n",
    "        b.append(a[i:i+n])\n",
    "    return b\n",
    "\n",
    "def is_valids(a):\n",
    "    xs = group_by_n(a[:TERMS_N*3], 3)\n",
    "    ys = group_by_n(a[TERMS_N*3:TERMS_N*3*2], 3)\n",
    "    zs = group_by_n(a[TERMS_N*3*2:TERMS_N*3*3], 3)\n",
    "    return is_valid(xs) and is_valid(ys) and is_valid(zs)\n",
    "\n",
    "def is_valid(a):\n",
    "    for v in a:\n",
    "        if v[0] > v[1] or v[1] > v[2]:\n",
    "            return False\n",
    "    for i in range(1, len(a)):\n",
    "        if a[i-1][1] > a[i][1]:\n",
    "            return False\n",
    "        if a[i-1][2] < a[i][0]:\n",
    "            return False\n",
    "    \n",
    "    return True\n",
    "\n",
    "for v in input_population:\n",
    "    assert(is_valids(v))"
   ]
  },
  {
   "cell_type": "code",
   "execution_count": 188,
   "metadata": {},
   "outputs": [],
   "source": [
    "# fitness\n",
    "def find_term(universe, antecedent, v):\n",
    "    max_deg = 0\n",
    "    max_term = ''\n",
    "    for term in antecedent.terms:\n",
    "        deg = fuzz.fuzzymath.interp_membership(\n",
    "            universe, \n",
    "            antecedent[term].mf, \n",
    "            v\n",
    "        )\n",
    "        if deg <= max_deg:\n",
    "            continue\n",
    "        max_deg = deg\n",
    "        max_term = term\n",
    "    return max_term\n",
    "\n",
    "def generate_rules(x_abcs, y_abcs, xv, yv, zv):\n",
    "    rules_dict = {}\n",
    "    for x_abc in x_abcs:\n",
    "        x_value = x_abc[1]\n",
    "        x_term = find_term(xv.universe, xv, x_value)\n",
    "        for y_abc in y_abcs:\n",
    "            y_value = y_abc[1]\n",
    "            y_term = find_term(yv.universe, yv, y_value)\n",
    "            z_value = F(x_value, y_value)\n",
    "            z_term = find_term(zv.universe, zv, z_value)\n",
    "            rules_dict[(x_term, y_term)] = z_term\n",
    "    rules = []\n",
    "    for x_term, y_term in rules_dict:\n",
    "        z_term = rules_dict[(x_term, y_term)]\n",
    "        rule = ctrl.Rule(antecedent=(xv[x_term] & yv[y_term]),\n",
    "                        consequent=zv[z_term])\n",
    "        rules.append(rule)\n",
    "    return rules\n",
    "\n",
    "def simulation_error_metric(sim, obs_n):\n",
    "    observations = []\n",
    "    obs_zs = []\n",
    "    real_zs = []\n",
    "    for xi in np.linspace(X_BOUNDS.left, X_BOUNDS.right, obs_n):\n",
    "        for yi in np.linspace(Y_BOUNDS.left, Y_BOUNDS.right, obs_n):\n",
    "            sim.input['x'] = xi\n",
    "            sim.input['y'] = yi\n",
    "            sim.compute()\n",
    "            obs_z = sim.output['z']\n",
    "            real_z = F(xi, yi)\n",
    "            observations.append([xi, yi, obs_z])\n",
    "            obs_zs.append(obs_z)\n",
    "            real_zs.append(real_z)\n",
    "    mse = mean_squared_error(real_zs, obs_zs)\n",
    "    return mse\n",
    "\n",
    "def fitness_func(solution, solution_idx):\n",
    "    step = 0.25\n",
    "    x_universe = np.arange(X_BOUNDS.left, X_BOUNDS.right+2*step, step)\n",
    "    y_universe = np.arange(Y_BOUNDS.left, Y_BOUNDS.right+2*step, step)\n",
    "    z_universe = np.arange(Z_BOUNDS.left, Z_BOUNDS.right+2*step, step)\n",
    "\n",
    "    xv = ctrl.Antecedent(x_universe, 'x')\n",
    "    yv = ctrl.Antecedent(y_universe, 'y')\n",
    "    zv = ctrl.Consequent(z_universe, 'z')\n",
    "\n",
    "    x_abcs = group_by_n(solution[0: TERMS_N*3], 3)\n",
    "    y_abcs = group_by_n(solution[TERMS_N*3: TERMS_N*3*2], 3)\n",
    "    z_abcs = group_by_n(solution[TERMS_N*3*2: TERMS_N*3*3], 3)\n",
    "\n",
    "    for i in range(TERMS_N):\n",
    "        xv[f\"{i+1}\"] = fuzz.trimf(xv.universe, x_abcs[i])\n",
    "        yv[f\"{i+1}\"] = fuzz.trimf(yv.universe, y_abcs[i])\n",
    "        zv[f\"{i+1}\"] = fuzz.trimf(zv.universe, z_abcs[i])\n",
    "\n",
    "    rules = generate_rules(x_abcs, y_abcs, xv, yv, zv)\n",
    "\n",
    "    system = ctrl.ControlSystem(rules=rules)\n",
    "    sim = ctrl.ControlSystemSimulation(system)\n",
    "\n",
    "    obs_n = 4\n",
    "    err_metric = simulation_error_metric(sim, obs_n)\n",
    "    return 1.0 / err_metric\n",
    "\n"
   ]
  },
  {
   "cell_type": "code",
   "execution_count": 189,
   "metadata": {},
   "outputs": [],
   "source": [
    "# crossover\n",
    "def crossover_func(parents, offspring_size, ga_instance):\n",
    "    offspring = []\n",
    "    idx = 0\n",
    "    while len(offspring) != offspring_size[0]:\n",
    "        parent1 = parents[idx % parents.shape[0], :].copy()\n",
    "        parent2 = parents[(idx + 1) % parents.shape[0], :].copy()\n",
    "        while True:\n",
    "            random_split_point = np.random.choice(range(offspring_size[0]))\n",
    "            a = np.append(parent1[:random_split_point], parent2[random_split_point:])\n",
    "            if is_valids(a):\n",
    "                offspring.append(a)\n",
    "                break\n",
    "        idx += 1\n",
    "\n",
    "    return np.array(offspring)"
   ]
  },
  {
   "cell_type": "code",
   "execution_count": 190,
   "metadata": {},
   "outputs": [],
   "source": [
    "# mutation\n",
    "def mutation_func(offspring, ga_instance):\n",
    "    for chromosome_id in range(offspring.shape[0]):\n",
    "        while True:\n",
    "            gene_id = random.randint(0, offspring.shape[1]-1)\n",
    "            if gene_id in [0, 1,  TERMS_N*3-2, TERMS_N*3-1,\n",
    "                TERMS_N*3, TERMS_N*3+1, TERMS_N*3*2-2, TERMS_N*3*2-1, \n",
    "                TERMS_N*3*3, TERMS_N*3*3+1, TERMS_N*3*4-2, TERMS_N*4-1]:\n",
    "                continue\n",
    "            r = 0.1\n",
    "            chromosome = offspring[chromosome_id]\n",
    "            chromosome[gene_id] += r\n",
    "            if is_valids(chromosome):\n",
    "                offspring[chromosome_id] = chromosome\n",
    "                break\n",
    "            chromosome[gene_id] -= r\n",
    "    return offspring"
   ]
  },
  {
   "cell_type": "code",
   "execution_count": 191,
   "metadata": {},
   "outputs": [
    {
     "data": {
      "image/png": "[encoded data removed]",
      "text/plain": [
       "<Figure size 432x288 with 1 Axes>"
      ]
     },
     "metadata": {
      "needs_background": "light"
     },
     "output_type": "display_data"
    },
    {
     "data": {
      "image/png": "[encoded data removed]",
      "text/plain": [
       "<Figure size 432x288 with 1 Axes>"
      ]
     },
     "execution_count": 191,
     "metadata": {},
     "output_type": "execute_result"
    }
   ],
   "source": [
    "ga_instance = pygad.GA(\n",
    "    num_generations=STEPS_N,\n",
    "    fitness_func= fitness_func,\n",
    "    initial_population=input_population,\n",
    "    #parent_selection_type=\"tournament\",\n",
    "    crossover_type=crossover_func,\n",
    "    mutation_type=mutation_func,\n",
    "    num_parents_mating=4,\n",
    ")\n",
    "ga_instance.run()\n",
    "ga_instance.plot_fitness()"
   ]
  }
 ],
 "metadata": {
  "interpreter": {
   "hash": "e7370f93d1d0cde622a1f8e1c04877d8463912d04d973331ad4851f04de6915a"
  },
  "kernelspec": {
   "display_name": "Python 3.10.2 64-bit",
   "language": "python",
   "name": "python3"
  },
  "language_info": {
   "codemirror_mode": {
    "name": "ipython",
    "version": 3
   },
   "file_extension": ".py",
   "mimetype": "text/x-python",
   "name": "python",
   "nbconvert_exporter": "python",
   "pygments_lexer": "ipython3",
   "version": "3.10.2"
  },
  "orig_nbformat": 4
 },
 "nbformat": 4,
 "nbformat_minor": 2
}
